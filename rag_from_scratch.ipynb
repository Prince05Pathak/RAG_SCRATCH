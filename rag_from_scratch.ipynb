{
 "cells": [
  {
   "cell_type": "code",
   "execution_count": 19,
   "id": "892dadc0-03f3-4793-aed1-588d9579f436",
   "metadata": {},
   "outputs": [],
   "source": [
    "corpus_of_documents = [\n",
    "    \"Take a leisure walk in the park and enjoy the fresh air.\",\n",
    "    \"Visit a local musem and discover sommething new.\",\n",
    "    \"Attend a live music concer and feel the rhythm\",\n",
    "    \"Go for a hike and admire the natural scenery\",\n",
    "    \"Have a picnic with friends and share some laughs\",\n",
    "    \"Explore a new cuisine by dining at an ethnic restaurant\",\n",
    "    \"Take a yoga class and stretch your body and mind\",\n",
    "    \"Join a local sports league and some friendly comppetition\",\n",
    "    \"Attend a workshop or lecture on a topic you're intrested in\",\n",
    "    \"Visit an amusement park and ride the roller coasters\"\n",
    "]"
   ]
  },
  {
   "cell_type": "code",
   "execution_count": 20,
   "id": "defa43ae-2ab9-4daa-bad0-d81b35620e63",
   "metadata": {},
   "outputs": [
    {
     "data": {
      "text/plain": [
       "['Take a leisure walk in the park and enjoy the fresh air.',\n",
       " 'Visit a local musem and discover sommething new.',\n",
       " 'Attend a live music concer and feel the rhythm',\n",
       " 'Go for a hike and admire the natural scenery',\n",
       " 'Have a picnic with friends and share some laughs',\n",
       " 'Explore a new cuisine by dining at an ethnic restaurant',\n",
       " 'Take a yoga class and stretch your body and mind',\n",
       " 'Join a local sports league and some friendly comppetition',\n",
       " \"Attend a workshop or lecture on a topic you're intrested in\",\n",
       " 'Visit an amusement park and ride the roller coasters']"
      ]
     },
     "execution_count": 20,
     "metadata": {},
     "output_type": "execute_result"
    }
   ],
   "source": [
    "corpus_of_documents"
   ]
  },
  {
   "cell_type": "code",
   "execution_count": 3,
   "id": "8374cbdb-b257-4bff-9c7e-2428e0f0faf1",
   "metadata": {},
   "outputs": [],
   "source": [
    "#user_query=\"I am indian and i live in india\""
   ]
  },
  {
   "cell_type": "code",
   "execution_count": 21,
   "id": "e79b7b29-cf74-43b7-a7fa-b405485ad4c3",
   "metadata": {},
   "outputs": [],
   "source": [
    "from collections import Counter\n",
    "import math\n"
   ]
  },
  {
   "cell_type": "code",
   "execution_count": 5,
   "id": "5b45cd27-9875-42dc-a2d4-8ccd470f2e4a",
   "metadata": {},
   "outputs": [],
   "source": [
    "#query_tokens = user_query.lower().split(\" \")\n",
    "#print(query_tokens)"
   ]
  },
  {
   "cell_type": "code",
   "execution_count": 6,
   "id": "4759dbc4-f8a2-4748-a5e9-1f0973d0d3c7",
   "metadata": {},
   "outputs": [],
   "source": [
    "#document_tokens=document.lower().split(\" \")\n",
    "#print(document_tokens)\n",
    "      "
   ]
  },
  {
   "cell_type": "code",
   "execution_count": 7,
   "id": "e32f73c0-5349-4d48-8949-c85b4c589163",
   "metadata": {},
   "outputs": [],
   "source": [
    "#lst =[]\n",
    "#for token in query_counter.keys():\n",
    "    #lst.append(query_counter[token])"
   ]
  },
  {
   "cell_type": "code",
   "execution_count": 8,
   "id": "22395709-5dd6-46a0-baa6-4ecd959e8fcc",
   "metadata": {},
   "outputs": [],
   "source": [
    "#lst\n"
   ]
  },
  {
   "cell_type": "code",
   "execution_count": 9,
   "id": "7b188655-458a-4a0a-b1d1-96099ebf0ec6",
   "metadata": {},
   "outputs": [],
   "source": [
    "#mylist = []\n",
    "#for tokens in query_counter.keys() & documnet_counter.keys():\n",
    "    #mylist.append(query_counter[tokens]*documnet_counter[tokens])"
   ]
  },
  {
   "cell_type": "code",
   "execution_count": 10,
   "id": "e19e678a-6e43-4ba2-84a2-4f250d4c515e",
   "metadata": {},
   "outputs": [],
   "source": [
    "#mylist"
   ]
  },
  {
   "cell_type": "code",
   "execution_count": 11,
   "id": "c928a832-47a9-443d-ad6c-b8407b0318a7",
   "metadata": {},
   "outputs": [],
   "source": [
    "#dot_product = sum(mylist)"
   ]
  },
  {
   "cell_type": "code",
   "execution_count": 12,
   "id": "bd629c76-ef10-4753-afce-9cdcb7cdbae6",
   "metadata": {},
   "outputs": [],
   "source": [
    "#query_mag = math.sqrt(sum(query_counter[token] ** 2 for token in query_counter)) "
   ]
  },
  {
   "cell_type": "code",
   "execution_count": 13,
   "id": "6c8864e2-6371-4530-af00-b1b1185be42b",
   "metadata": {},
   "outputs": [],
   "source": [
    "#query_mag"
   ]
  },
  {
   "cell_type": "code",
   "execution_count": 14,
   "id": "cb914fd0-b404-40dd-89aa-3c8f01b52b03",
   "metadata": {},
   "outputs": [],
   "source": [
    "#document_mag = math.sqrt(sum(documnet_counter[token] ** 2 for token in documnet_counter))"
   ]
  },
  {
   "cell_type": "code",
   "execution_count": 15,
   "id": "5c44036e-467d-4e24-b537-aefa09023d5f",
   "metadata": {},
   "outputs": [],
   "source": [
    "#document_mag"
   ]
  },
  {
   "cell_type": "code",
   "execution_count": 16,
   "id": "7de11699-f615-4a77-8dc4-711b5eb31580",
   "metadata": {},
   "outputs": [],
   "source": [
    "#similarity = dot_product / (query_mag*document_mag)"
   ]
  },
  {
   "cell_type": "code",
   "execution_count": 17,
   "id": "93f2c979-5e72-40b5-ad2e-fb0b75456c25",
   "metadata": {},
   "outputs": [],
   "source": [
    "#similarity"
   ]
  },
  {
   "cell_type": "code",
   "execution_count": 18,
   "id": "da561238-cd31-4c2a-810c-816f081093e7",
   "metadata": {},
   "outputs": [],
   "source": [
    "#user_query=\"is yoga good for health\"\n",
    "#document=\"yoga is very good for living a healthy lifestyle.\""
   ]
  },
  {
   "cell_type": "code",
   "execution_count": 22,
   "id": "ae742a1d-48f2-48b6-9585-e7e0d0265da6",
   "metadata": {},
   "outputs": [],
   "source": [
    "def cosine_similarity(query,document):\n",
    "    #Tokenize and convert to lowercase \n",
    "    query_tokens = query.lower().split(\" \")\n",
    "    document_tokens=document.lower().split(\" \")\n",
    "\n",
    "    #Create counters for query and document \n",
    "    query_counter = Counter(query_tokens)\n",
    "    documnet_counter = Counter(document_tokens)\n",
    "\n",
    "    #Calculate dot product for cosine similarity \n",
    "    dot_product = sum(query_counter[token] * documnet_counter[token] for token in query_counter.keys() & documnet_counter.keys())\n",
    "                            \n",
    "    #Calculate Magnitude for cosine similarity\n",
    "    query_mag = math.sqrt(sum(query_counter[token] ** 2 for token in query_counter)) \n",
    "    document_mag = math.sqrt(sum(documnet_counter[token] ** 2 for token in documnet_counter))\n",
    "\n",
    "    # Calculate cosine similarity \n",
    "    similarity = dot_product / (query_mag * document_mag) if query_mag * document_mag != 0 else 0\n",
    "    return similarity"
   ]
  },
  {
   "cell_type": "code",
   "execution_count": 7,
   "id": "13d73311-fafb-4cfd-8a29-059c6fb752af",
   "metadata": {},
   "outputs": [],
   "source": [
    "#cosine_similarity(user_query, document)"
   ]
  },
  {
   "cell_type": "code",
   "execution_count": 23,
   "id": "65e28a9e-2c81-4ecf-9b25-17342d2e8e3c",
   "metadata": {},
   "outputs": [
    {
     "data": {
      "text/plain": [
       "['Take a leisure walk in the park and enjoy the fresh air.',\n",
       " 'Visit a local musem and discover sommething new.',\n",
       " 'Attend a live music concer and feel the rhythm',\n",
       " 'Go for a hike and admire the natural scenery',\n",
       " 'Have a picnic with friends and share some laughs',\n",
       " 'Explore a new cuisine by dining at an ethnic restaurant',\n",
       " 'Take a yoga class and stretch your body and mind',\n",
       " 'Join a local sports league and some friendly comppetition',\n",
       " \"Attend a workshop or lecture on a topic you're intrested in\",\n",
       " 'Visit an amusement park and ride the roller coasters']"
      ]
     },
     "execution_count": 23,
     "metadata": {},
     "output_type": "execute_result"
    }
   ],
   "source": [
    "corpus_of_documents"
   ]
  },
  {
   "cell_type": "code",
   "execution_count": 24,
   "id": "58b51774-4ef7-44d9-b88f-c91edb449927",
   "metadata": {},
   "outputs": [],
   "source": [
    "def return_response(query, corpus):\n",
    "    similarities = []\n",
    "    for doc in corpus :\n",
    "        similarity = cosine_similarity(query,doc)\n",
    "        similarities.append(similarity)\n",
    "    return corpus_of_documents[similarities.index(max(similarities))]"
   ]
  },
  {
   "cell_type": "code",
   "execution_count": 46,
   "id": "beeb6ac7-1368-47e7-a86b-d5d628595967",
   "metadata": {},
   "outputs": [
    {
     "name": "stdin",
     "output_type": "stream",
     "text": [
      " Please enter your query  weather is nice what should i do \n"
     ]
    }
   ],
   "source": [
    "user_input= input(\" Please enter your query \")\n"
   ]
  },
  {
   "cell_type": "code",
   "execution_count": 49,
   "id": "09c88ccb-bcae-4dfa-bf0a-d6d1280c1e98",
   "metadata": {},
   "outputs": [
    {
     "data": {
      "text/plain": [
       "'Take a leisure walk in the park and enjoy the fresh air.'"
      ]
     },
     "execution_count": 49,
     "metadata": {},
     "output_type": "execute_result"
    }
   ],
   "source": [
    "return_response(user_input, corpus_of_documents)"
   ]
  },
  {
   "cell_type": "code",
   "execution_count": 50,
   "id": "28e045d7-1e35-454c-a178-2f3525b18155",
   "metadata": {},
   "outputs": [],
   "source": [
    "relevant_document = return_response(user_input, corpus_of_documents)"
   ]
  },
  {
   "cell_type": "code",
   "execution_count": 51,
   "id": "ffc1431e-abde-461a-a0f4-cd5282c90423",
   "metadata": {},
   "outputs": [],
   "source": [
    "# How to configure LLm in local system\n",
    "#LLAMA\n",
    "#Hugging Face(Not using)\n",
    "#OlLAMA Llama2 model"
   ]
  },
  {
   "cell_type": "code",
   "execution_count": 42,
   "id": "e66803b1-754f-410c-9492-f5646224c845",
   "metadata": {},
   "outputs": [],
   "source": [
    "# Augumenting the response using llama2 mode"
   ]
  },
  {
   "cell_type": "code",
   "execution_count": 52,
   "id": "816b7f25-c8ff-4ba8-95f8-ed524f03286d",
   "metadata": {},
   "outputs": [],
   "source": [
    "import json\n",
    "import requests\n",
    "full_response = []"
   ]
  },
  {
   "cell_type": "code",
   "execution_count": 54,
   "id": "724a4926-0a7c-4c5e-bc53-b67117eb1df9",
   "metadata": {},
   "outputs": [
    {
     "name": "stdout",
     "output_type": "stream",
     "text": [
      " Great! Based on your input, I recommend taking a leisure walk in the park and enjoying the fresh air. It's a lovely day out, so why not get some exercise and enjoy nature at the same time? Great! Based on your input, I recommend taking a leisurely walk in the park to enjoy the fresh air. It's a great way to get some exercise and clear your mind while taking in the beautiful surroundings.\n"
     ]
    }
   ],
   "source": [
    "prompt = \"\"\" \n",
    "You are a bot that makes recommendations for activities. You answer in very short sentences and do not include extra information.\n",
    "This is the recommended activity: {relevant_document}\n",
    "The user input is: {user_input}\n",
    "Compile a recommendation to the user based on the recommended activity and the user input.\n",
    "\"\"\"\n",
    "\n",
    "url = 'http://localhost:11434/api/generate'\n",
    "\n",
    "data = {\n",
    "    \"model\" : \"llama2\",\n",
    "    \"prompt\" : prompt.format(user_input=user_input , relevant_document=relevant_document)\n",
    "}\n",
    "\n",
    "headers = {'Content-Type': 'application/json'}\n",
    "\n",
    "response = requests.post(url, data=json.dumps(data), headers=headers , stream=True)\n",
    "try: \n",
    "    for line in response.iter_lines():\n",
    "        if line:\n",
    "            decode_line = json.loads(line.decode('utf-8'))\n",
    "            full_response.append(decode_line['response'])\n",
    "finally:\n",
    "    response.close()\n",
    "\n",
    "print(''.join(full_response))"
   ]
  },
  {
   "cell_type": "code",
   "execution_count": null,
   "id": "72a97c91-3939-4270-9f86-3a8501c9a5ff",
   "metadata": {},
   "outputs": [],
   "source": []
  }
 ],
 "metadata": {
  "kernelspec": {
   "display_name": "Python 3 (ipykernel)",
   "language": "python",
   "name": "python3"
  },
  "language_info": {
   "codemirror_mode": {
    "name": "ipython",
    "version": 3
   },
   "file_extension": ".py",
   "mimetype": "text/x-python",
   "name": "python",
   "nbconvert_exporter": "python",
   "pygments_lexer": "ipython3",
   "version": "3.12.4"
  }
 },
 "nbformat": 4,
 "nbformat_minor": 5
}
